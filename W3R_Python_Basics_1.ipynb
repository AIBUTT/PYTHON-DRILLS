{
 "cells": [
  {
   "cell_type": "markdown",
   "id": "d4b3e1b0-29fd-4611-998f-553d3b52a232",
   "metadata": {},
   "source": [
    "## Python Practice Excercise # 1"
   ]
  },
  {
   "cell_type": "markdown",
   "id": "ff0a08af-3f82-4342-a29b-a6f82338919b",
   "metadata": {
    "tags": []
   },
   "source": [
    "## https://www.w3resource.com/python-exercises/python-basic-exercises.php"
   ]
  },
  {
   "cell_type": "markdown",
   "id": "300880fb-455b-4dd5-93bb-ccbe6487a685",
   "metadata": {},
   "source": [
    "### 1: Write a Python program to get the Python version you are using!"
   ]
  },
  {
   "cell_type": "code",
   "execution_count": null,
   "id": "d2547bf0-a9a9-4165-9f55-99277c5c6ffb",
   "metadata": {},
   "outputs": [],
   "source": [
    "import sys\n",
    "sys.version"
   ]
  },
  {
   "cell_type": "markdown",
   "id": "d65d9066-ce62-4a99-ac9f-b1d1c916de81",
   "metadata": {},
   "source": [
    "### 2: Write a Python program to display the current date and time."
   ]
  },
  {
   "cell_type": "code",
   "execution_count": null,
   "id": "869359ee-9893-4adb-a2fb-3329c1177bc6",
   "metadata": {},
   "outputs": [],
   "source": [
    "import datetime\n",
    "datetime.datetime.now()"
   ]
  },
  {
   "cell_type": "markdown",
   "id": "0c3fe908-96af-46b3-8b95-df55489aa0c3",
   "metadata": {},
   "source": [
    "### 3: Write a Python program which accepts the radius of a circle from the user and compute the area."
   ]
  },
  {
   "cell_type": "code",
   "execution_count": null,
   "id": "32fe5a65-34cb-40d9-8693-dc653bb7f7e7",
   "metadata": {},
   "outputs": [],
   "source": [
    "from math import pi\n",
    "def area(r):\n",
    "    return 2*pi*r\n",
    "a = input()\n",
    "area(float(a))"
   ]
  },
  {
   "cell_type": "markdown",
   "id": "b8688f00-551e-40d6-ae34-d8bd27fd8eb1",
   "metadata": {},
   "source": [
    "### 4: Write a Python program which accepts the user's first and last name and print them in reverse order with a space between them."
   ]
  },
  {
   "cell_type": "code",
   "execution_count": null,
   "id": "61086bd2-0153-4bfe-b9ef-c8c0405d2b92",
   "metadata": {},
   "outputs": [],
   "source": [
    "print(\"Please print your first name\")\n",
    "first_name = input()\n",
    "print(\"Please print your last name\")\n",
    "last_name = input()\n",
    "print(last_name+\" \"+first_name)"
   ]
  },
  {
   "cell_type": "markdown",
   "id": "4fb457fc-8ab2-4217-bc8f-c20d66ef2035",
   "metadata": {},
   "source": [
    "### 5: Write a Python program which accepts a sequence of comma-separated numbers from user and generate a list and a tuple with those numbers."
   ]
  },
  {
   "cell_type": "code",
   "execution_count": null,
   "id": "6e1028c7-2c5a-41d4-a10f-0c4db99d6150",
   "metadata": {},
   "outputs": [],
   "source": [
    "print(\"Write a sequence of comma-separated numbers\")\n",
    "string = input()\n",
    "L = string.split(\",\")\n",
    "print(L)\n",
    "print(tuple(L))"
   ]
  },
  {
   "cell_type": "markdown",
   "id": "6ec8f4c7-df38-4844-9b55-209eb2c9bee7",
   "metadata": {},
   "source": [
    "### 6: Write a Python program to accept a filename from the user and print the extension of that."
   ]
  },
  {
   "cell_type": "code",
   "execution_count": null,
   "id": "ecc76fc0-4f31-4b0a-a46f-7eec5f28707f",
   "metadata": {},
   "outputs": [],
   "source": [
    "file_name = input()\n",
    "f = file_name.split(\".\")\n",
    "\"extension of the file is: {}\".format(f[1])"
   ]
  },
  {
   "cell_type": "markdown",
   "id": "26517e3b-e014-4df7-8fb2-aa466ca52dc3",
   "metadata": {},
   "source": [
    "### 7: Write a Python program to display the first and last colors from the following list."
   ]
  },
  {
   "cell_type": "code",
   "execution_count": null,
   "id": "052af3c0-29ef-4522-bdf8-6bd97dea1876",
   "metadata": {},
   "outputs": [],
   "source": [
    "color_list = [\"Red\",\"Green\",\"White\" ,\"Black\"]\n",
    "color_list[0], color_list[len(color_list)-1]"
   ]
  },
  {
   "cell_type": "markdown",
   "id": "4d007961-d657-4f5a-bc14-c5602ffcf511",
   "metadata": {},
   "source": [
    "### 8: Write a Python program to display the examination schedule. (extract the date from exam_st_date)."
   ]
  },
  {
   "cell_type": "code",
   "execution_count": null,
   "id": "0aa58100-720f-4c2b-bc70-2d1b5fd0d00b",
   "metadata": {},
   "outputs": [],
   "source": [
    "exam_st_date = (11, 12, 2014)\n",
    "\"Exams will start from {}/{}/{}\".format(exam_st_date[0],exam_st_date[1],exam_st_date[2])"
   ]
  },
  {
   "cell_type": "markdown",
   "id": "33126871-7569-4e56-a682-b75d376cf233",
   "metadata": {},
   "source": [
    "### 9: Write a Python program that accepts an integer (n) and computes the value of n+nn+nnn."
   ]
  },
  {
   "cell_type": "code",
   "execution_count": null,
   "id": "6f5ba15a-deb1-48ed-a16e-e7e97ff390ca",
   "metadata": {},
   "outputs": [],
   "source": [
    "n = input()\n",
    "n2 = n*2\n",
    "n3 = n*3\n",
    "int(n) + int(n2) + int(n3)"
   ]
  },
  {
   "cell_type": "markdown",
   "id": "83e70684-3929-45aa-b634-3b8b947f3624",
   "metadata": {},
   "source": [
    "### 10: Write a Python program to print the documents (syntax, description etc.) of Python built-in function(s)"
   ]
  },
  {
   "cell_type": "code",
   "execution_count": null,
   "id": "7a153b8a-8afc-496f-9ba6-b6071b6e759e",
   "metadata": {},
   "outputs": [],
   "source": [
    "a=input()\n",
    "x=a+\".__doc__\"\n",
    "x"
   ]
  },
  {
   "cell_type": "markdown",
   "id": "2d0d474e-31af-4d4c-9471-b9c5dde98400",
   "metadata": {},
   "source": [
    "### 11: Write a Python program to print the calendar of a given month and year. Note : Use 'calendar' module."
   ]
  },
  {
   "cell_type": "code",
   "execution_count": null,
   "id": "7b554566-7e90-4d4e-8281-aea5b5087211",
   "metadata": {},
   "outputs": [],
   "source": [
    "import calendar\n",
    "#help(calendar)\n",
    "year=input()\n",
    "month=input()\n",
    "print(calendar.month(int(year), int(month)))"
   ]
  },
  {
   "cell_type": "markdown",
   "id": "2e035415-7c52-4824-b447-d2cf67c0f346",
   "metadata": {},
   "source": [
    "### 12: Write a Python program to calculate number of days between two dates."
   ]
  },
  {
   "cell_type": "code",
   "execution_count": null,
   "id": "84086312-8907-47cb-b9fc-8409032569ad",
   "metadata": {},
   "outputs": [],
   "source": [
    "import datetime\n",
    "from datetime import date\n",
    "#help(date)\n",
    "a = datetime.date(2010,1,1)\n",
    "b = datetime.date(2022,9,14)\n",
    "print(b-a)\n",
    "datetime.date.today()"
   ]
  },
  {
   "cell_type": "markdown",
   "id": "511583db-8ebc-4b4d-8d37-affc63b2b906",
   "metadata": {},
   "source": [
    "### 13: Write a Python program to get the volume of a sphere with radius 6"
   ]
  },
  {
   "cell_type": "code",
   "execution_count": null,
   "id": "afe5da91-4bb2-411e-9eff-23a4ca3fa029",
   "metadata": {},
   "outputs": [],
   "source": [
    "from math import pi\n",
    "def volume(r):\n",
    "    return (4*pi*r**3)/3\n",
    "R=float(input())\n",
    "volume(R)"
   ]
  },
  {
   "cell_type": "markdown",
   "id": "888bfd95-3731-410f-a865-d0857d03ee4d",
   "metadata": {},
   "source": [
    "### 14: Write a Python program to get the difference between a given number and 17, if the number is greater than 17 return double the absolute difference."
   ]
  },
  {
   "cell_type": "code",
   "execution_count": null,
   "id": "509c84f0-57de-45d8-bc24-60402a0d5aaa",
   "metadata": {},
   "outputs": [],
   "source": [
    "n = float(input())\n",
    "\n",
    "if n > 17:\n",
    "    d=2*abs(n-17)\n",
    "else:\n",
    "    d=(n-17)\n",
    "d"
   ]
  },
  {
   "cell_type": "markdown",
   "id": "9f083349-a7b0-4270-b6f6-4edbfbc89e57",
   "metadata": {},
   "source": [
    "### 15: Write a Python program to test whether a number is within 100 of 1000 or 2000"
   ]
  },
  {
   "cell_type": "code",
   "execution_count": null,
   "id": "af5bdf3e-905f-4f5b-a867-c4523ea3db9e",
   "metadata": {},
   "outputs": [],
   "source": [
    "n=int(input())\n",
    "def with_in(n):\n",
    "    if abs(n-1000) < 100:\n",
    "        return \"The number is within 100 of 1000\"\n",
    "    elif abs(n-2000) < 100:\n",
    "        return \"The number is within 100 of 2000\"\n",
    "    else:\n",
    "        return \"doesn't satisfy the criteria\"\n",
    "with_in(n)"
   ]
  },
  {
   "cell_type": "markdown",
   "id": "5676467b-37e8-4fb0-b733-d9b1f922539a",
   "metadata": {},
   "source": [
    "### 16: Write a Python program to calculate the sum of three given numbers, if the values are equal then return three times of their sum."
   ]
  },
  {
   "cell_type": "code",
   "execution_count": null,
   "id": "136a42a6-407c-42e1-a4a4-a030a185b91f",
   "metadata": {},
   "outputs": [],
   "source": [
    "def sum3(a,b,c):\n",
    "    if a==b and a==c:\n",
    "        return 3*(a+b+c)\n",
    "    else:\n",
    "        return a+b+c\n",
    "a=float(input())\n",
    "b=float(input())\n",
    "c=float(input())\n",
    "sum3(a,b,c)"
   ]
  },
  {
   "cell_type": "markdown",
   "id": "9c434b79-ce76-4833-b7bd-6fd07b1bec5d",
   "metadata": {},
   "source": [
    "### 17: Write a Python program to get a new string from a given string where \"Is\" has been added to the front. If the given string already begins with \"Is\" then return the string unchanged."
   ]
  },
  {
   "cell_type": "code",
   "execution_count": null,
   "id": "3172f3d6-da3a-45fb-8479-fc04a417a1cc",
   "metadata": {},
   "outputs": [],
   "source": [
    "def is_str(string):\n",
    "    if string[0:2]==\"Is\":\n",
    "        return string\n",
    "    else:\n",
    "        return \"Is \"+string\n",
    "\n",
    "string=input()\n",
    "is_str(string)"
   ]
  },
  {
   "cell_type": "markdown",
   "id": "54346b31-b87c-48d0-ae39-b5bcc8fe744e",
   "metadata": {},
   "source": [
    "### 18: Write a Python program to get a string which is n (non-negative integer) copies of a given string."
   ]
  },
  {
   "cell_type": "code",
   "execution_count": null,
   "id": "59f079d9-2f7b-4e01-9c5c-6258f8815a95",
   "metadata": {},
   "outputs": [],
   "source": [
    "def n_copies(string,n):\n",
    "    return n*string\n",
    "n=int(input())\n",
    "string=input()\n",
    "n_copies(string,n)"
   ]
  },
  {
   "cell_type": "markdown",
   "id": "9891d601-f1d4-4985-8935-008ab6b95460",
   "metadata": {},
   "source": [
    "### 19: Write a Python program to find whether a given number (accept from the user) is even or odd, print out an appropriate message to the user. "
   ]
  },
  {
   "cell_type": "code",
   "execution_count": null,
   "id": "5bd32683-c557-4b40-9a66-3e153bd2ae9c",
   "metadata": {},
   "outputs": [],
   "source": [
    "def odd_even(n):\n",
    "    if n%2 == 0:\n",
    "        return \"Number is Even\"\n",
    "    elif n%2 == 1:\n",
    "        return \"Number is Odd\"\n",
    "n=float(input())\n",
    "odd_even(n)"
   ]
  },
  {
   "cell_type": "markdown",
   "id": "575b851c-9387-496f-806f-5e77b9d30cee",
   "metadata": {},
   "source": [
    "### 20: Write a Python program to count the number 4 in a given list."
   ]
  },
  {
   "cell_type": "code",
   "execution_count": null,
   "id": "6cb31d2d-64d9-437a-8a06-2a8c87b92f06",
   "metadata": {},
   "outputs": [],
   "source": [
    "n=int(input())\n",
    "L=[]\n",
    "for i in range(n):\n",
    "    L.append(float(input()))\n",
    "    \n",
    "L.count(4)"
   ]
  },
  {
   "cell_type": "markdown",
   "id": "8492fd89-bd10-4be6-a442-96ba700fdcf0",
   "metadata": {},
   "source": [
    "### 21: Write a Python program to get the n (non-negative integer) copies of the first 2 characters of a given string. Return the n copies of the whole string if the length is less than 2."
   ]
  },
  {
   "cell_type": "code",
   "execution_count": null,
   "id": "6a21d591-c524-43a8-89eb-84bc4a7a4782",
   "metadata": {},
   "outputs": [],
   "source": [
    "def partial_string(string,n):\n",
    "    if len(string)<2:\n",
    "        return n*string\n",
    "    else:\n",
    "        return n*string[0:2]\n",
    "\n",
    "n=int(input())    \n",
    "string=input()\n",
    "partial_string(string,n)"
   ]
  },
  {
   "cell_type": "markdown",
   "id": "9551bcb8-e2a3-4e6d-a642-78ce275d830c",
   "metadata": {},
   "source": [
    "### 22: Write a Python program to test whether a passed letter is a vowel or not."
   ]
  },
  {
   "cell_type": "code",
   "execution_count": null,
   "id": "82ce6e78-8404-4081-96dd-9404814ad7ab",
   "metadata": {},
   "outputs": [],
   "source": [
    "def vowel(letter):\n",
    "    v=[\"a\", \"e\", \"i\", \"o\", \"u\"]\n",
    "    if letter in v:\n",
    "        return \"Letter is a vowel\"\n",
    "    else:\n",
    "        return \"Letter is not a vowel\"\n",
    "letter=input()\n",
    "vowel(letter)"
   ]
  },
  {
   "cell_type": "markdown",
   "id": "e99b442b-e65d-48bf-8369-05fb86c12195",
   "metadata": {},
   "source": [
    "### 23: Write a Python program to check whether a specified value is contained in a group of values."
   ]
  },
  {
   "cell_type": "code",
   "execution_count": null,
   "id": "e3446796-7dc5-4d4c-951c-0ed3b7138010",
   "metadata": {},
   "outputs": [],
   "source": [
    "n=int(input())\n",
    "L=[]\n",
    "for i in range(n):\n",
    "    L.append(float(input()))\n",
    "\n",
    "def check(L,a):\n",
    "    if a in L:\n",
    "        return \"contained in the list\"\n",
    "    else:\n",
    "        return \"not contained in the list\"\n",
    "\n",
    "check(L,100)"
   ]
  },
  {
   "cell_type": "markdown",
   "id": "afe5a802-5547-415c-a9ce-8277fde0bec7",
   "metadata": {},
   "source": [
    "### 24: Write a Python program to create a histogram from a given list of integers."
   ]
  },
  {
   "cell_type": "code",
   "execution_count": null,
   "id": "2f18a8d1-cc52-4772-9f5e-9aaf7a656f90",
   "metadata": {},
   "outputs": [],
   "source": [
    "n=int(input())\n",
    "L=[]\n",
    "for i in range(n):\n",
    "    L.append(float(input()))\n",
    "\n",
    "import matplotlib.pyplot as plt\n",
    "plt.hist(L)"
   ]
  },
  {
   "cell_type": "markdown",
   "id": "91bef546-2e16-4804-9b74-41eb00f7bfbc",
   "metadata": {},
   "source": [
    "### 25: Write a Python program to concatenate all elements in a list into a string and return it."
   ]
  },
  {
   "cell_type": "code",
   "execution_count": null,
   "id": "5fd2297e-1e58-4cea-9515-f9110da69021",
   "metadata": {
    "tags": []
   },
   "outputs": [],
   "source": [
    "n=int(input())\n",
    "L=[]\n",
    "for i in range(n):\n",
    "    L.append(float(input()))\n",
    "print(L)\n",
    "\n",
    "def concat(L):\n",
    "    s=\"\"\n",
    "    for i in L:\n",
    "        s=\"\".join([s,str(i)])\n",
    "    return s\n",
    "\n",
    "concat(L)"
   ]
  },
  {
   "cell_type": "markdown",
   "id": "aa5d315b-7bd8-47fe-9b16-5e56e7f48c4c",
   "metadata": {},
   "source": [
    "### 26: Write a Python program to print all even numbers from a given numbers list in the same order and stop the printing if any numbers that come after 237 in the sequence."
   ]
  },
  {
   "cell_type": "code",
   "execution_count": null,
   "id": "fb531ec4-6dd3-49e8-a65b-286fa730c9a2",
   "metadata": {},
   "outputs": [],
   "source": [
    "numbers = [ 386, 462, 47, 418, 907, 344, 236, 375, 823, 566, 597, 978, 328, 615, 953, 345, 399, 162, 758, 219, 918, 237, 412, 566, 826, 248, 866, 950, 626, 949, 687, 217, 815, 67, 104, 58, 512, 24, 892, 894, 767, 553, 81, 379, 843, 831, 445, 742, 717, 958,743, 527]\n",
    "\n",
    "def even_in_list(numbers):\n",
    "    L=[]\n",
    "    index=numbers.index(237)\n",
    "    i=0\n",
    "    while i < index:\n",
    "        if numbers[i]%2 == 0:\n",
    "            L.append(numbers[i])\n",
    "        i+=1\n",
    "    return L\n",
    "\n",
    "even_in_list(numbers)\n"
   ]
  },
  {
   "cell_type": "markdown",
   "id": "531f7c99-0b57-4f8a-baa5-82c9dfd31237",
   "metadata": {},
   "source": [
    "### 27: Write a Python program to print out a set containing all the colors from color_list_1 which are not present in color_list_2."
   ]
  },
  {
   "cell_type": "code",
   "execution_count": null,
   "id": "6a98bf25-a10c-4c83-8020-5d2f683e150a",
   "metadata": {},
   "outputs": [],
   "source": [
    "color_list_1 = set([\"White\", \"Black\", \"Red\"])\n",
    "color_list_2 = set([\"Red\", \"Green\"])\n",
    "\n",
    "def missing_out(L1,L2):\n",
    "    L=[]\n",
    "    for i in L1:\n",
    "        if i not in L2:\n",
    "            L.append(i)\n",
    "    if len(L)==0:\n",
    "        return \"There is no element in first list that is not in second list\"\n",
    "    else:\n",
    "        return L\n",
    "\n",
    "missing_out(color_list_1,color_list_2)\n",
    "            "
   ]
  },
  {
   "cell_type": "markdown",
   "id": "47dc877a-5a6b-4191-8549-8dd1b3a4dda0",
   "metadata": {},
   "source": [
    "### 28: Write a Python program that will accept the base and height of a triangle and compute the area."
   ]
  },
  {
   "cell_type": "code",
   "execution_count": null,
   "id": "0f341d8a-6bbf-4c82-9b8a-95e5742fc658",
   "metadata": {},
   "outputs": [],
   "source": [
    "def tri_area(base,height):\n",
    "    return 0.5*base*height\n",
    "tri_area(1,1)"
   ]
  },
  {
   "cell_type": "markdown",
   "id": "456cec54-0485-4bf7-92d3-be3c103de34c",
   "metadata": {},
   "source": [
    "### 29: Write a Python program to compute the greatest common divisor (GCD) of two positive integers."
   ]
  },
  {
   "cell_type": "code",
   "execution_count": null,
   "id": "2622966e-d57e-4734-b517-a7101a0c3866",
   "metadata": {},
   "outputs": [],
   "source": [
    "def divisors(a):\n",
    "    L=[]\n",
    "    for i in range(1,a+1):\n",
    "        if a%i == 0:\n",
    "            L.append(i)\n",
    "    return L\n",
    "\n",
    "def GCD(a,b):\n",
    "    L=[]\n",
    "    L1=divisors(a)\n",
    "    L2=divisors(b)\n",
    "    for i in L1:\n",
    "        if i in L2:\n",
    "            L.append(i)\n",
    "    return max(L)\n",
    "\n",
    "GCD(15,70)"
   ]
  },
  {
   "cell_type": "markdown",
   "id": "4676470a-ac25-489e-abf5-f08cee808a22",
   "metadata": {},
   "source": [
    "### 30: Write a Python program to get the least common multiple (LCM) of two positive integers."
   ]
  },
  {
   "cell_type": "code",
   "execution_count": null,
   "id": "0928693f-c4ff-4cb6-b6d5-f41ff9eb5a80",
   "metadata": {},
   "outputs": [],
   "source": [
    "def divisors(a):\n",
    "    L=[]\n",
    "    for i in range(1,a+1):\n",
    "        if a%i == 0:\n",
    "            L.append(i)\n",
    "    return L\n",
    "\n",
    "def GCD(a,b):\n",
    "    L=[]\n",
    "    L1=divisors(a)\n",
    "    L2=divisors(b)\n",
    "    for i in L1:\n",
    "        if i in L2:\n",
    "            L.append(i)\n",
    "    return max(L)\n",
    "\n",
    "def LCM(a,b):\n",
    "    return a*b/GCD(a,b)\n",
    "\n",
    "LCM(50,65)        "
   ]
  },
  {
   "cell_type": "markdown",
   "id": "3b15d7d4-8b05-45fd-bee3-25baefa7d2e1",
   "metadata": {},
   "source": [
    "### 31: Write a Python program to sum of three given integers. However, if two values are equal sum will be zero."
   ]
  },
  {
   "cell_type": "code",
   "execution_count": null,
   "id": "4fd160a8-a118-4bb1-9942-fc4905db7c2f",
   "metadata": {},
   "outputs": [],
   "source": [
    "def three_sum(a,b,c):\n",
    "    if a==b or a==c or b==c:\n",
    "        return 0\n",
    "    else:\n",
    "        return a+b+c\n",
    "\n",
    "three_sum(1,2,3)"
   ]
  },
  {
   "cell_type": "markdown",
   "id": "a1faa54d-4ac7-4e8c-b0c3-b35eebcc804c",
   "metadata": {},
   "source": [
    "### 32: Write a Python program to sum of two given integers. However, if the sum is between 15 to 20 it will return 20."
   ]
  },
  {
   "cell_type": "code",
   "execution_count": null,
   "id": "250f5abe-958b-408f-ad5d-f559970621ad",
   "metadata": {},
   "outputs": [],
   "source": [
    "def two_sum(a,b):\n",
    "    if a+b >= 15 and a+b <=20:\n",
    "        return 20\n",
    "    else:\n",
    "        return a+b\n",
    "\n",
    "two_sum(10,4)"
   ]
  },
  {
   "cell_type": "markdown",
   "id": "6fbaa09c-f7fc-4618-a032-5814743ca936",
   "metadata": {},
   "source": [
    "### 33: Write a Python program that will return true if the two given integer values are equal or their sum or difference is 5."
   ]
  },
  {
   "cell_type": "code",
   "execution_count": null,
   "id": "51459a55-61fd-474f-97e4-757a6bdc0825",
   "metadata": {},
   "outputs": [],
   "source": [
    "def check(a,b):\n",
    "    if a == b or a+b == 5 or a-b == 5:\n",
    "        return True\n",
    "    else:\n",
    "        return False\n",
    "\n",
    "check(7,2)"
   ]
  },
  {
   "cell_type": "markdown",
   "id": "8eff3af7-5901-4300-a163-b734dedee3b1",
   "metadata": {},
   "source": [
    "### 34: Write a Python program to add two objects if both objects are an integer type."
   ]
  },
  {
   "cell_type": "code",
   "execution_count": null,
   "id": "17424d6d-4d26-44cb-8415-ce0ba264a5b9",
   "metadata": {},
   "outputs": [],
   "source": [
    "def int_add(a,b):\n",
    "    if type(a)==int and type(b)==int:\n",
    "        return a+b\n",
    "    else:\n",
    "        return \"Not Integer\"\n",
    "\n",
    "L=[1,2,3]\n",
    "int_add(1,L)"
   ]
  },
  {
   "cell_type": "markdown",
   "id": "e8aa4a1b-5a2a-443f-be82-62a9d119219c",
   "metadata": {},
   "source": [
    "### 35: Write a Python program to display your details like name, age, address in three different lines."
   ]
  },
  {
   "cell_type": "code",
   "execution_count": null,
   "id": "ccd67fb1-444e-4153-9a07-4f4e7404aa2f",
   "metadata": {},
   "outputs": [],
   "source": [
    "def details(name, age, address):\n",
    "    s=\"Name is {}\\nAge is {}\\nAddress is {}\".format(name, age, address)\n",
    "    return print(s)\n",
    "\n",
    "details(\"Aatif\", 44, \"315 Queen's Court NW\")"
   ]
  },
  {
   "cell_type": "markdown",
   "id": "60581302-dfef-4fad-a6fd-b80efbe9f437",
   "metadata": {},
   "source": [
    "### 36: Write a Python program to solve (x + y) * (x + y)."
   ]
  },
  {
   "cell_type": "code",
   "execution_count": null,
   "id": "dad2facf-7f3f-4a73-99cc-82449ad6bae4",
   "metadata": {},
   "outputs": [],
   "source": [
    "def sq_sum(a,b):\n",
    "    return (a+b)**2\n",
    "sq_sum(3,4)"
   ]
  },
  {
   "cell_type": "markdown",
   "id": "3b729326-d3db-4534-aaff-83062d024353",
   "metadata": {},
   "source": [
    "### 37: Write a Python program to compute the future value of a specified principal amount, rate of interest, and a number of years."
   ]
  },
  {
   "cell_type": "code",
   "execution_count": null,
   "id": "b5b10205-2a6a-49b1-b433-8c5b0e92c293",
   "metadata": {},
   "outputs": [],
   "source": [
    "def future_value(P, r, Y):\n",
    "    n=1 #interest is paid once every year\n",
    "    return P*((1+r/(100*n))**(n*Y))\n",
    "\n",
    "round(future_value(10000,3.5,7),2)"
   ]
  },
  {
   "cell_type": "markdown",
   "id": "4efb5c1f-e7c0-45ac-aa9a-96fce1587da7",
   "metadata": {},
   "source": [
    "### 38: Write a Python program to compute the distance between the points (x1, y1) and (x2, y2)."
   ]
  },
  {
   "cell_type": "code",
   "execution_count": null,
   "id": "ce253fa9-984e-4172-958a-01a06073b846",
   "metadata": {},
   "outputs": [],
   "source": [
    "import math\n",
    "def distance(t1,t2):\n",
    "    return math.sqrt( math.pow(t1[0]-t2[0],2) + math.pow(t1[1]-t2[1],2) )\n",
    "t1=(0,0)\n",
    "t2=(3,4)\n",
    "distance(t1,t2)"
   ]
  },
  {
   "cell_type": "markdown",
   "id": "4f51adba-5537-4215-9764-04a153c65713",
   "metadata": {},
   "source": [
    "### 39: Write a Python program to check whether a file exists."
   ]
  },
  {
   "cell_type": "code",
   "execution_count": null,
   "id": "dc9cec88-ae81-4fb3-8a71-f2bc9f619373",
   "metadata": {},
   "outputs": [],
   "source": [
    "import os.path as check\n",
    "path=\"/Users/aibutt/COMMANDS\"\n",
    "check.exists(path)"
   ]
  },
  {
   "cell_type": "markdown",
   "id": "94662890-2f08-496c-9a48-c3a216e7f4eb",
   "metadata": {},
   "source": [
    "### 40:  Write a Python program to determine if a Python shell is executing in 32bit or 64bit mode on OS."
   ]
  },
  {
   "cell_type": "code",
   "execution_count": null,
   "id": "336d70f3-2677-415d-a795-346415312de7",
   "metadata": {},
   "outputs": [],
   "source": [
    "import platform\n",
    "platform.architecture()"
   ]
  },
  {
   "cell_type": "markdown",
   "id": "cba0f87d-8573-4700-b881-53292ed2d479",
   "metadata": {},
   "source": [
    "### 41: Write a Python program to get OS name, platform and release information."
   ]
  },
  {
   "cell_type": "code",
   "execution_count": null,
   "id": "da861ab8-af17-40dd-b1a7-219c79f9a109",
   "metadata": {},
   "outputs": [],
   "source": [
    "import platform, os\n",
    "#help(platform)\n",
    "print(os.name)\n",
    "print(platform.machine())\n",
    "print(platform.mac_ver())\n",
    "print(platform.release())"
   ]
  },
  {
   "cell_type": "markdown",
   "id": "d0a5f9ee-3f52-4a23-871b-d613b97f1d49",
   "metadata": {},
   "source": [
    "### 42: Write a Python program to locate Python site-packages."
   ]
  },
  {
   "cell_type": "code",
   "execution_count": null,
   "id": "8a5d8a94-42fd-4b4f-b368-4bbd32ae552d",
   "metadata": {},
   "outputs": [],
   "source": [
    "import site; \n",
    "site.getsitepackages()"
   ]
  },
  {
   "cell_type": "markdown",
   "id": "aa9ef635-01bf-4b6e-83ec-d29010ad018d",
   "metadata": {},
   "source": [
    "### 43: Write a Python program to call an external command."
   ]
  },
  {
   "cell_type": "code",
   "execution_count": null,
   "id": "5004f558-2796-49f4-b164-ad8751fc005c",
   "metadata": {},
   "outputs": [],
   "source": [
    "import os\n",
    "s=\"ls -lrt\"\n",
    "s1=\"pwd\"\n",
    "os.system(s1)"
   ]
  },
  {
   "cell_type": "markdown",
   "id": "4000577a-7bca-4af3-96c3-c0a87801748a",
   "metadata": {},
   "source": [
    "### 44: Write a python program to get the path and name of the file that is currently executing."
   ]
  },
  {
   "cell_type": "code",
   "execution_count": null,
   "id": "7461695d-98b8-42dc-97d6-ac4803953982",
   "metadata": {},
   "outputs": [],
   "source": [
    "import os\n",
    "os.path.realpath()"
   ]
  },
  {
   "cell_type": "markdown",
   "id": "6e668522-9c6d-48ce-a626-d626e9c59e74",
   "metadata": {},
   "source": [
    "### 45: Write a Python program to find out the number of CPUs using."
   ]
  },
  {
   "cell_type": "code",
   "execution_count": null,
   "id": "2c5eac25-8f34-40d2-9c7b-ab60efa16eb7",
   "metadata": {},
   "outputs": [],
   "source": [
    "import platform\n",
    "platform.processor()"
   ]
  },
  {
   "cell_type": "code",
   "execution_count": null,
   "id": "64f1fb54-1e2e-469f-ac5e-bc3d7f22ae37",
   "metadata": {},
   "outputs": [],
   "source": [
    "import multiprocessing\n",
    "multiprocessing.cpu_count()"
   ]
  },
  {
   "cell_type": "markdown",
   "id": "2179924c-4c04-472f-8f34-4bb7fc65f8ba",
   "metadata": {},
   "source": [
    "### 46: Write a Python program to parse a string to Float or Integer."
   ]
  },
  {
   "cell_type": "code",
   "execution_count": null,
   "id": "b0101c2f-a55d-40ff-80e6-5c54fd37f57d",
   "metadata": {},
   "outputs": [],
   "source": [
    "s=10.5\n",
    "print(int(s))\n",
    "print(float(s))"
   ]
  },
  {
   "cell_type": "markdown",
   "id": "3dc5093c-fc37-4c1d-95d8-63f648fc7e7a",
   "metadata": {},
   "source": [
    "### 47: Write a Python program to list all files in a directory in Python."
   ]
  },
  {
   "cell_type": "code",
   "execution_count": null,
   "id": "639e941c-2ed6-40bd-9556-4db5eed26b6b",
   "metadata": {},
   "outputs": [],
   "source": [
    "import os\n",
    "os.system(\"ls\")"
   ]
  },
  {
   "cell_type": "markdown",
   "id": "ccad11eb-c892-414e-bd88-dc89171ce365",
   "metadata": {},
   "source": [
    "### 48: Write a Python program to determine profiling of Python programs.\n",
    "#### Note: A profile is a set of statistics that describes how often and for how long various parts of the program executed. These statistics can be formatted into reports via the pstats module."
   ]
  },
  {
   "cell_type": "code",
   "execution_count": null,
   "id": "d3fffbef-7b27-45ca-afe7-ca98f13775c3",
   "metadata": {},
   "outputs": [],
   "source": [
    "from numpy import random\n",
    "def matrix():\n",
    "    return random.randint(1000, size=(100, 100))\n",
    "matrix()"
   ]
  },
  {
   "cell_type": "code",
   "execution_count": null,
   "id": "6b2731d3-494d-4449-a685-8fc0df35a075",
   "metadata": {},
   "outputs": [],
   "source": [
    "import cProfile\n",
    "cProfile.run(\"matrix\")"
   ]
  },
  {
   "cell_type": "markdown",
   "id": "328d54a7-e0c8-4181-b740-3eabd654d96a",
   "metadata": {},
   "source": [
    "### 49: Write a Python program to sum of the first n positive integers."
   ]
  },
  {
   "cell_type": "code",
   "execution_count": null,
   "id": "6734897d-34d2-4f6f-89ca-bd4feb8c0ec8",
   "metadata": {},
   "outputs": [],
   "source": [
    "def sum_n(n):\n",
    "    i,j=0,0\n",
    "    while i<n+1:\n",
    "        j+=i\n",
    "        i+=1\n",
    "    return j\n",
    "sum_n(4)"
   ]
  },
  {
   "cell_type": "markdown",
   "id": "16106e8e-e439-4236-baca-fc99727dd5d9",
   "metadata": {},
   "source": [
    "### 50: Write a Python program to convert height (in feet and inches) to centimeters."
   ]
  },
  {
   "cell_type": "code",
   "execution_count": null,
   "id": "ce3db010-a3e4-46bd-b633-840efb32f967",
   "metadata": {},
   "outputs": [],
   "source": [
    "def height_conv(f,i):\n",
    "    return (f*12 + i)*2.54\n",
    "height_conv(5,10)"
   ]
  },
  {
   "cell_type": "markdown",
   "id": "536726f2-e13a-4487-9748-c963058f1500",
   "metadata": {},
   "source": [
    "### 51: Write a Python program to calculate the hypotenuse of a right angled triangle."
   ]
  },
  {
   "cell_type": "code",
   "execution_count": null,
   "id": "b87359af-eb94-422f-a760-57533dbe7eb6",
   "metadata": {},
   "outputs": [],
   "source": [
    "from math import sqrt,pow\n",
    "def hyp(p,b):\n",
    "    return sqrt(pow(p,2)+pow(b,2))\n",
    "hyp(3,4)"
   ]
  },
  {
   "cell_type": "markdown",
   "id": "04a42317-200a-46f8-a512-a49d38ba6bd1",
   "metadata": {},
   "source": [
    "### 52: Write a Python program to calculate sum of digits of a number."
   ]
  },
  {
   "cell_type": "code",
   "execution_count": null,
   "id": "aece06c9-6066-4359-b16d-d30c1e07c0a2",
   "metadata": {},
   "outputs": [],
   "source": [
    "def sum_digits(s):\n",
    "    n=len(s)\n",
    "    sum=0\n",
    "    for i in range(n):\n",
    "        sum+=int(s[i:i+1])\n",
    "    return sum\n",
    "\n",
    "s=input()\n",
    "sum_digits(s)"
   ]
  },
  {
   "cell_type": "markdown",
   "id": "6a0f8dfa-5c4f-4a26-8850-34973b2381f5",
   "metadata": {},
   "source": [
    "### 53: Write a Python program to sort three integers without using conditional statements and loops."
   ]
  },
  {
   "cell_type": "code",
   "execution_count": null,
   "id": "df2c3e49-cf4a-4b97-9534-698fa8d493d7",
   "metadata": {},
   "outputs": [],
   "source": [
    "a,b,c=int(input()),int(input()),int(input())\n",
    "def sort(a,b,c):\n",
    "    z=max(a,b,c)\n",
    "    x=min(a,b,c)\n",
    "    y=a+b+c-x-z\n",
    "    return x,y,z\n",
    "sort(a,b,c)"
   ]
  },
  {
   "cell_type": "markdown",
   "id": "db3b1c9f-0aa3-4a44-9f4d-3da0dca84e19",
   "metadata": {},
   "source": [
    "### 54: Write a Python program to hash a word."
   ]
  },
  {
   "cell_type": "code",
   "execution_count": null,
   "id": "90a53fa0-9a2e-4af9-804a-1860acedc735",
   "metadata": {},
   "outputs": [],
   "source": [
    "s=input()\n",
    "hash(s)"
   ]
  },
  {
   "cell_type": "markdown",
   "id": "31bcfa96-bc7b-4419-a7a5-ba02ab9bb1ac",
   "metadata": {},
   "source": [
    "### 55: Write a Python program to test whether all numbers of a list is greater than a certain number."
   ]
  },
  {
   "cell_type": "code",
   "execution_count": null,
   "id": "4d638329-8a33-4fcb-ba5c-6243edae2448",
   "metadata": {},
   "outputs": [],
   "source": [
    "from numpy import random\n",
    "L=random.randint(1000, size=(10))\n",
    "print(L)\n",
    "\n",
    "def check_allmax(L,n):\n",
    "    x=min(L)\n",
    "    return x > n\n",
    "\n",
    "check_allmax(L,10)"
   ]
  },
  {
   "cell_type": "markdown",
   "id": "e5c4b3b1-9c04-4762-8890-e2669de6102d",
   "metadata": {},
   "source": [
    "### 56: Write a Python program to count the number occurrence of a specific character in a string."
   ]
  },
  {
   "cell_type": "code",
   "execution_count": null,
   "id": "ad6ba6af-34c5-432d-a710-c7bae5e78a88",
   "metadata": {},
   "outputs": [],
   "source": [
    "string=input()\n",
    "\n",
    "def dict_occur(string,char):\n",
    "    dic={}\n",
    "    for i in string:\n",
    "        if i not in dic:\n",
    "            dic[i]=1\n",
    "        else:\n",
    "            dic[i]+=1\n",
    "    if char in dic.keys():\n",
    "        return dic[char]\n",
    "    else:\n",
    "        return \"{} is not in the given string\".format(char)\n",
    "\n",
    "dict_occur(string,\"z\")"
   ]
  },
  {
   "cell_type": "markdown",
   "id": "09449c94-3f75-424c-bea5-66dde81ce4b2",
   "metadata": {},
   "source": [
    "### 57: Write a Python program to get the ASCII value of a character."
   ]
  },
  {
   "cell_type": "code",
   "execution_count": null,
   "id": "c0470bdf-e3f9-4a29-8377-27afdc770565",
   "metadata": {},
   "outputs": [],
   "source": [
    "def return_ASCII(char):\n",
    "    return ord(char)\n",
    "\n",
    "char=input()\n",
    "return_ASCII(char)"
   ]
  },
  {
   "cell_type": "markdown",
   "id": "5c247d0c-2580-481c-8cd3-cd9051a172f4",
   "metadata": {},
   "source": [
    "### 58: Given variables x=30 and y=20, write a Python program to print \"30+20=50\"."
   ]
  },
  {
   "cell_type": "code",
   "execution_count": null,
   "id": "23cbf1cf-24d1-48f1-b2e9-535d135aefaf",
   "metadata": {},
   "outputs": [],
   "source": [
    "x=30\n",
    "y=20\n",
    "s=str(x)+\"+\"+str(y)+\"=50\"\n",
    "s"
   ]
  },
  {
   "cell_type": "markdown",
   "id": "2617d7ca-67fe-48b1-bcfd-5ef72356e548",
   "metadata": {},
   "source": [
    "### 59: Write a Python program to swap two variables."
   ]
  },
  {
   "cell_type": "code",
   "execution_count": null,
   "id": "2a6da4ae-99aa-49e2-9393-40000e5ad247",
   "metadata": {},
   "outputs": [],
   "source": [
    "def swap(a,b):\n",
    "    a,b=b,a\n",
    "    return a,b\n",
    "\n",
    "a=10\n",
    "b=20\n",
    "\n",
    "a,b=swap(a,b)\n",
    "\n",
    "print(a,b)"
   ]
  },
  {
   "cell_type": "markdown",
   "id": "30494600-187b-436a-825b-4716505be23b",
   "metadata": {},
   "source": [
    "### 60: Write a Python program to convert a byte string to a list of integers."
   ]
  },
  {
   "cell_type": "code",
   "execution_count": null,
   "id": "eaab7538-59cb-4d1b-bb61-ec803713bce6",
   "metadata": {},
   "outputs": [],
   "source": [
    "str1=\"Aatif Imtiaz Butt\"\n",
    "str2=str1.encode()\n",
    "print(str2)\n",
    "list(str2)"
   ]
  },
  {
   "cell_type": "markdown",
   "id": "271768e8-c75b-4b0b-af98-4d0dd0560dcb",
   "metadata": {},
   "source": [
    "### 61: Write a Python program to check whether a string is numeric."
   ]
  },
  {
   "cell_type": "code",
   "execution_count": null,
   "id": "0b9467a7-9ade-4a6e-b37b-7f6f4b22aa47",
   "metadata": {},
   "outputs": [],
   "source": [
    "def is_numeric(string):\n",
    "    try:\n",
    "        if int(string):\n",
    "            print(\"String is Integer\")\n",
    "    except:\n",
    "        print(\"String is not Integer\")\n",
    "    try:\n",
    "        if float(string):\n",
    "            print(\"String is Float\")\n",
    "    except:\n",
    "        print(\"String is neither Integer nor Float\")\n",
    "\n",
    "string=input()\n",
    "is_numeric(string)"
   ]
  },
  {
   "cell_type": "markdown",
   "id": "79447d20-01f0-44cf-8eb6-86e068295a59",
   "metadata": {},
   "source": [
    "### 62: Write a Python program to get the system time."
   ]
  },
  {
   "cell_type": "code",
   "execution_count": null,
   "id": "e3cd6137-2b51-4bdd-a6ab-c24d3ffb1c5b",
   "metadata": {},
   "outputs": [],
   "source": [
    "import time\n",
    "help(time.ctime)\n",
    "time.ctime()\n"
   ]
  },
  {
   "cell_type": "markdown",
   "id": "44ac6af0-f2db-4b65-824a-cfb96a3fc2b8",
   "metadata": {},
   "source": [
    "### 63: Write a Python program to get numbers divisible by fifteen from a list using an anonymous function."
   ]
  },
  {
   "cell_type": "code",
   "execution_count": null,
   "id": "6cf430cf-8f46-4787-ad05-e8ae1b4bb0dd",
   "metadata": {},
   "outputs": [],
   "source": [
    "from numpy import random\n",
    "L = random.randint(1000, size=100)\n",
    "L1 = list(filter(lambda x: x%15==0,L))\n",
    "L1"
   ]
  },
  {
   "cell_type": "markdown",
   "id": "4c25eaea-d51c-40b6-b96f-503026f7e965",
   "metadata": {},
   "source": [
    "### 64: Write a Python program to make file lists from current directory using a wildcard."
   ]
  },
  {
   "cell_type": "code",
   "execution_count": null,
   "id": "7bd0753d-0921-453a-a5f9-c1a6c89161eb",
   "metadata": {},
   "outputs": [],
   "source": [
    "import os\n",
    "os.system(\"ls >> new.txt\")"
   ]
  },
  {
   "cell_type": "markdown",
   "id": "e5ae4898-c621-49f7-9eff-9450341b55ba",
   "metadata": {},
   "source": [
    "### 65: Write a Python program to remove the first item from a specified list."
   ]
  },
  {
   "cell_type": "code",
   "execution_count": null,
   "id": "cf9db6c9-228a-49af-82d8-7c05f6ee6a3c",
   "metadata": {},
   "outputs": [],
   "source": [
    "from numpy import random\n",
    "L = list(random.randint(-1000,1000, size=10))\n",
    "print(L)\n",
    "L.pop(0)\n",
    "L"
   ]
  },
  {
   "cell_type": "markdown",
   "id": "6e4b7abf-ad8a-4b71-b393-cc0c431a79b4",
   "metadata": {},
   "source": [
    "### 66: Write a Python program to filter the positive numbers from a list."
   ]
  },
  {
   "cell_type": "code",
   "execution_count": null,
   "id": "272e6a8b-5715-4da9-820e-2f742e37a6e7",
   "metadata": {},
   "outputs": [],
   "source": [
    "from numpy import random\n",
    "L = list(random.randint(-1000,1000, size=10))\n",
    "print(L)\n",
    "\n",
    "def filter_positive(L):\n",
    "    L1=list(filter(lambda x: x>=0,L))\n",
    "    return L1\n",
    "\n",
    "filter_positive(L)"
   ]
  },
  {
   "cell_type": "markdown",
   "id": "3dac6de3-a99f-4bac-aa9c-9be622472539",
   "metadata": {},
   "source": [
    "### 67: Write a Python program to compute the product of a list of integers (without using for loop). "
   ]
  },
  {
   "cell_type": "code",
   "execution_count": null,
   "id": "f3fd8d1d-8bec-4c0e-beb1-1e8f218cae43",
   "metadata": {},
   "outputs": [],
   "source": [
    "from numpy import random, prod\n",
    "L = list(random.randint(-10,10, size=2))\n",
    "print(L)\n",
    "prod(L)"
   ]
  },
  {
   "cell_type": "markdown",
   "id": "692ffb9b-6f04-4167-a59e-9aeffb664699",
   "metadata": {},
   "source": [
    "### 68: Write a Python program to convert an integer to binary keep leading zeros."
   ]
  },
  {
   "cell_type": "code",
   "execution_count": null,
   "id": "2080c37c-be25-4716-a1e5-71f7fbe4d961",
   "metadata": {},
   "outputs": [],
   "source": [
    "n=1\n",
    "format(n,'8b')"
   ]
  },
  {
   "cell_type": "markdown",
   "id": "eab5205e-5dd1-439f-81b7-40ba1190b053",
   "metadata": {},
   "source": [
    "### 69: Write a python program to convert decimal to hexadecimal."
   ]
  },
  {
   "cell_type": "code",
   "execution_count": null,
   "id": "657f3607-93b1-49e9-9077-4cf8a535172a",
   "metadata": {},
   "outputs": [],
   "source": [
    "n=1000\n",
    "format(n,'4x')"
   ]
  },
  {
   "cell_type": "markdown",
   "id": "b73869f0-d187-43d7-9ebb-994721b00c43",
   "metadata": {},
   "source": [
    "### 70: Write a Python function to check whether a distinct pair of numbers whose product is odd present in a sequence of integer values."
   ]
  },
  {
   "cell_type": "code",
   "execution_count": null,
   "id": "c6ca87c0-8e35-4955-b285-5868e0931326",
   "metadata": {},
   "outputs": [],
   "source": [
    "L=list(i for i in range(1,201))\n",
    "print(L)\n",
    "\n",
    "def check_pair_product(L):\n",
    "    L1=[]\n",
    "    for i in L:\n",
    "        for j in L:\n",
    "            if (i*j)%2==1 and i*j in L:\n",
    "                L1.append(i*j)\n",
    "    return set(L1)\n",
    "    \n",
    "check_pair_product(L)       "
   ]
  },
  {
   "cell_type": "code",
   "execution_count": null,
   "id": "0b1e8c80-c34b-49a1-960f-b5b86df9b946",
   "metadata": {},
   "outputs": [],
   "source": []
  }
 ],
 "metadata": {
  "kernelspec": {
   "display_name": "Python 3 (ipykernel)",
   "language": "python",
   "name": "python3"
  },
  "language_info": {
   "codemirror_mode": {
    "name": "ipython",
    "version": 3
   },
   "file_extension": ".py",
   "mimetype": "text/x-python",
   "name": "python",
   "nbconvert_exporter": "python",
   "pygments_lexer": "ipython3",
   "version": "3.9.6"
  }
 },
 "nbformat": 4,
 "nbformat_minor": 5
}
