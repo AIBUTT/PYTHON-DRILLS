{
 "cells": [
  {
   "cell_type": "markdown",
   "id": "6808e854-13aa-4870-928e-bc794eb44dd2",
   "metadata": {},
   "source": [
    "## Python Practice Excercise # 2"
   ]
  },
  {
   "cell_type": "markdown",
   "id": "00de3a6a-7b42-4d42-acfd-117cd96c686e",
   "metadata": {},
   "source": [
    "### https://www.w3resource.com/python-exercises/basic/"
   ]
  },
  {
   "cell_type": "markdown",
   "id": "a54f2693-8b26-4cec-9043-8a45804fc722",
   "metadata": {},
   "source": [
    "### 1: Write a Python function that takes a sequence of numbers and determines whether all the numbers are different from each other."
   ]
  },
  {
   "cell_type": "code",
   "execution_count": null,
   "id": "34c1cdb5-9760-4612-af5f-08ea40bf1251",
   "metadata": {},
   "outputs": [],
   "source": [
    "def unique(L):\n",
    "    x=len(L)\n",
    "    L1=set(L)\n",
    "    y=len(L1)\n",
    "    if x==y:\n",
    "        return \"All numbers in the list are unique\"\n",
    "    else:\n",
    "        return \"Some numbers in the list appear multiple times\"\n",
    "\n",
    "from numpy import random\n",
    "L=list(random.randint(1,1000, size=(10)))\n",
    "print(L)\n",
    "unique(L)\n"
   ]
  },
  {
   "cell_type": "markdown",
   "id": "6f9fd1b0-b3fb-48f4-89e9-7190739137b4",
   "metadata": {},
   "source": [
    "### 2: Write a Python program to remove and print every third number from a list of numbers until the list becomes empty."
   ]
  },
  {
   "cell_type": "code",
   "execution_count": null,
   "id": "117474e8-27de-40cc-9b4c-a8197b2963c0",
   "metadata": {},
   "outputs": [],
   "source": [
    "from numpy import random\n",
    "L=list(random.randint(1,1000, size=(10)))\n",
    "print(L)\n",
    "i=2\n",
    "while len(L) > 0:\n",
    "    print(L.pop(i%len(L)))\n",
    "L"
   ]
  },
  {
   "cell_type": "markdown",
   "id": "04fe618f-9e46-487f-9e8f-9556076e2f00",
   "metadata": {},
   "source": [
    "### 3: Write a Python program to find unique triplets whose three elements gives the sum of zero from an array of n integers."
   ]
  },
  {
   "cell_type": "code",
   "execution_count": null,
   "id": "50232e58-2bcb-44cc-97be-efff4e731be6",
   "metadata": {},
   "outputs": [],
   "source": [
    "from numpy import random\n",
    "L=list(random.randint(-10,10, size=10))\n",
    "print(L)\n",
    "\n",
    "def triplets(L):\n",
    "    x=len(L)\n",
    "    i=1\n",
    "    while i < x-1:\n",
    "        if L[i-1]+L[i]+L[i+1] == 0:\n",
    "            print(L[i-1],L[i],L[i+1])\n",
    "        i+=1\n",
    "    return\n",
    "\n",
    "triplets(L)"
   ]
  },
  {
   "cell_type": "markdown",
   "id": "1d535733-39fa-4aac-8900-4d74c714440f",
   "metadata": {},
   "source": [
    "### 4: Write a Python program to print a long text, convert the string to a list and print all the words and their frequencies. "
   ]
  },
  {
   "cell_type": "code",
   "execution_count": null,
   "id": "ccdb5ae2-da1b-4348-9863-7d97a5349ed9",
   "metadata": {},
   "outputs": [],
   "source": [
    "def words_frequency(string):\n",
    "    chars=[\".\",\",\"]\n",
    "    for char in chars:\n",
    "        string.strip(char)\n",
    "    L=string.split()\n",
    "    dic={}\n",
    "    for word in L:\n",
    "        if word in dic.keys():\n",
    "            dic[word]+=1\n",
    "        else:\n",
    "            dic[word]=1\n",
    "    \n",
    "    return sorted(dic)\n",
    "\n",
    "string=\"I AM AATIF IMTIAZ BUTT. I AM A PHYSICIST, STEPPING INTO THE DOMAIN OF DATA SCIENCE.\"\n",
    "words_frequency(string)\n"
   ]
  },
  {
   "cell_type": "markdown",
   "id": "547d3b72-1d22-4389-ad3c-15beebbbf894",
   "metadata": {},
   "source": [
    "### 5: Write a Python program to count the number of each character of a given text of a text file."
   ]
  },
  {
   "cell_type": "code",
   "execution_count": null,
   "id": "a839e1dd-7521-4a57-a193-c7599c8234f5",
   "metadata": {},
   "outputs": [],
   "source": [
    "import collections\n",
    "#help(collections.Counter)\n",
    "def char_counter(string):\n",
    "    dic= dict(collections.Counter(string))\n",
    "    return sorted(dic.items())\n",
    "\n",
    "string=\"I AM AATIF IMTIAZ BUTT. I AM A PHYSICIST, STEPPING INTO THE DOMAIN OF DATA SCIENCE. checking lower case here\"\n",
    "char_counter(string)"
   ]
  },
  {
   "cell_type": "markdown",
   "id": "e358c2b8-50c4-4d98-a959-d3fb410bc363",
   "metadata": {},
   "source": [
    "### 6: Write a Python program to create all possible permutations from a given collection of distinct numbers."
   ]
  },
  {
   "cell_type": "code",
   "execution_count": null,
   "id": "794b60a1-1123-43cf-90dd-d63495411e45",
   "metadata": {},
   "outputs": [],
   "source": [
    "from itertools import permutations\n",
    "\n",
    "a = [0, 1, 2]\n",
    "\n",
    "perms = list(permutations(a))\n",
    "perms"
   ]
  },
  {
   "cell_type": "markdown",
   "id": "4609fd70-2cc7-4712-a1c0-39cf02360c83",
   "metadata": {},
   "source": [
    "### 7: Write a Python program to find the number of notes (Sample of notes: 10, 20, 50, 100, 200 and 500 ) against a given amount."
   ]
  },
  {
   "cell_type": "code",
   "execution_count": null,
   "id": "a5620a41-8e8c-43eb-9aea-caf090f3b30d",
   "metadata": {},
   "outputs": [],
   "source": [
    "n=int(input())\n",
    "\n",
    "def change(n):\n",
    "    L=[100,50,20,10,5,2,1] # Canadian Bills and Coins\n",
    "    chiller=[]\n",
    "    for i in L:\n",
    "        chiller.append(n//i)\n",
    "        n=n%i\n",
    "    dic=dict(zip(L,chiller))\n",
    "    return dic\n",
    "\n",
    "change(n)"
   ]
  },
  {
   "cell_type": "markdown",
   "id": "41fe973e-76e8-445c-803a-d27ea8a8d0d5",
   "metadata": {},
   "source": [
    "### 8: Write a Python program to create a sequence where the first four members of the sequence are equal to one, and each successive term of the sequence is equal to the sum of the four previous ones. Find the Nth member of the sequence."
   ]
  },
  {
   "cell_type": "code",
   "execution_count": null,
   "id": "1eb01284-4e2b-4eb6-82a4-497c63ab274a",
   "metadata": {},
   "outputs": [],
   "source": [
    "def sequence(n):\n",
    "    a,b,c,d=1,1,1,1\n",
    "    for i in range(5,n+1):\n",
    "        a,b,c,d=b,c,d,a+b+c+d\n",
    "    return d\n",
    "\n",
    "sequence(100)\n",
    "    "
   ]
  },
  {
   "cell_type": "markdown",
   "id": "4327ffc9-5536-4fd0-ad26-10621d714a41",
   "metadata": {},
   "source": [
    "### 9: Write a Python program to find the digits which are absent in a given mobile number."
   ]
  },
  {
   "cell_type": "code",
   "execution_count": null,
   "id": "e9c359c6-3410-4751-a603-cab3ed87d918",
   "metadata": {},
   "outputs": [],
   "source": [
    "def phone(number):\n",
    "    string=\"0123456789\"\n",
    "    L=set(char for char in string)\n",
    "    number=str(number)\n",
    "    M=set(char for char in number)\n",
    "    return L.difference(M)\n",
    "phone(7802925988)"
   ]
  },
  {
   "cell_type": "markdown",
   "id": "d5e0c3f6-43b8-400e-8e54-53b4263d4122",
   "metadata": {},
   "source": [
    "### 10: Write a Python program to find the type of the progression (arithmetic progression/geometric progression) and the next successive member of a given three successive members of a sequence. "
   ]
  },
  {
   "cell_type": "code",
   "execution_count": 89,
   "id": "0f7e2a15-63f9-45e4-8535-e9de900660c6",
   "metadata": {},
   "outputs": [
    {
     "name": "stdout",
     "output_type": "stream",
     "text": [
      "2,6,18... is GP with 4th member: 54.0\n"
     ]
    }
   ],
   "source": [
    "def AP(a,b,c):\n",
    "    if b-a == c-b:\n",
    "        return 2*c-b\n",
    "    else:\n",
    "        return 0\n",
    "    \n",
    "def GP(a,b,c):\n",
    "    if b/a == c/b:\n",
    "        return c*c/b\n",
    "    else:\n",
    "        return 0\n",
    "\n",
    "def check(a,b,c):\n",
    "    x=AP(a,b,c)\n",
    "    y=GP(a,b,c)\n",
    "    if x != 0:\n",
    "        print(\"{},{},{}... is AP with 4th member: {}\".format(a,b,c,x))\n",
    "    if y != 0:\n",
    "        print(\"{},{},{}... is GP with 4th member: {}\".format(a,b,c,y))\n",
    "\n",
    "check(2,6,18)"
   ]
  },
  {
   "cell_type": "markdown",
   "id": "772a6ec7-05a8-4b8c-a930-0c8efbf465bf",
   "metadata": {},
   "source": [
    "### 11: Write a Python program to find common divisors between two numbers in a given pair."
   ]
  },
  {
   "cell_type": "code",
   "execution_count": 92,
   "id": "82687438-9326-47e8-9304-0af67258177b",
   "metadata": {},
   "outputs": [
    {
     "data": {
      "text/plain": [
       "[1, 2]"
      ]
     },
     "execution_count": 92,
     "metadata": {},
     "output_type": "execute_result"
    }
   ],
   "source": [
    "def divisors(a):\n",
    "    L=[]\n",
    "    for i in range(1,a+1):\n",
    "        if a%i == 0:\n",
    "            L.append(i)\n",
    "    return L\n",
    "\n",
    "def common_divisor(a,b):\n",
    "    L=[]\n",
    "    L1=divisors(a)\n",
    "    L2=divisors(b)\n",
    "    for i in L1:\n",
    "        if i in L2:\n",
    "            L.append(i)\n",
    "    return L\n",
    "\n",
    "common_divisor(2,8)"
   ]
  },
  {
   "cell_type": "markdown",
   "id": "1b0d7415-718e-4ba7-89b4-6ad6dd90f5dc",
   "metadata": {},
   "source": [
    "### 12: Write a Python program to reverse the digits of a given number and add it to the original, If the sum is not a palindrome repeat this procedure.\n",
    "Note: A palindrome is a word, number, or other sequence of characters which reads the same backward as forward, such as madam or racecar."
   ]
  },
  {
   "cell_type": "code",
   "execution_count": 106,
   "id": "8e49c436-8c67-43f5-9128-89de20215bcb",
   "metadata": {},
   "outputs": [
    {
     "name": "stdin",
     "output_type": "stream",
     "text": [
      " 75\n"
     ]
    },
    {
     "name": "stdout",
     "output_type": "stream",
     "text": [
      "NOT PALINDROME: 75 AND 57 -> 132\n"
     ]
    },
    {
     "data": {
      "text/plain": [
       "'PALINDROME: 132 AND 231 -> 363'"
      ]
     },
     "execution_count": 106,
     "metadata": {},
     "output_type": "execute_result"
    }
   ],
   "source": [
    "def reverse_string(a):\n",
    "    return a[::-1]\n",
    "\n",
    "def palindrome(a):\n",
    "    b=reverse_string(a)\n",
    "    x=str( int(a)+int(b) )\n",
    "    y=reverse_string(x)\n",
    "    if x==y:\n",
    "        return \"PALINDROME: {} AND {} -> {}\".format(a,b,x)\n",
    "    else:\n",
    "        print(\"NOT PALINDROME: {} AND {} -> {}\".format(a,b,x)) \n",
    "        return palindrome(x)\n",
    "        \n",
    "    \n",
    "a=input()\n",
    "palindrome(a)"
   ]
  },
  {
   "cell_type": "markdown",
   "id": "87938692-9810-4b2c-8982-14e8558b6c44",
   "metadata": {},
   "source": [
    "### 13: Write a Python program which reads an integer n and find the number of combinations of a,b,c and d (0 <= a,b,c,d <= 9) where (a + b + c + d) will be equal to n."
   ]
  },
  {
   "cell_type": "code",
   "execution_count": 125,
   "id": "66c9cc33-a704-4355-a78b-ff5521398fe1",
   "metadata": {},
   "outputs": [
    {
     "data": {
      "text/plain": [
       "10"
      ]
     },
     "execution_count": 125,
     "metadata": {},
     "output_type": "execute_result"
    }
   ],
   "source": [
    "def four_num_sum_comb(x):\n",
    "    combinations=[]\n",
    "    nums=[num for num in range(10)]\n",
    "    for i in nums:\n",
    "        for j in nums:\n",
    "            for k in nums:\n",
    "                for l in nums:\n",
    "                    if i+j+k+l==x:\n",
    "                        combinations.append((i,j,k,l))\n",
    "    return len(combinations)\n",
    "\n",
    "four_num_sum_comb(34)"
   ]
  },
  {
   "cell_type": "markdown",
   "id": "b60e0676-690a-43b6-8633-474f4fceb58b",
   "metadata": {},
   "source": [
    "### 14: Write a Python program to print the number of prime numbers which are less than or equal to a given integer. "
   ]
  },
  {
   "cell_type": "code",
   "execution_count": 134,
   "id": "e285ce9b-5cec-4978-8b9c-37307fff5779",
   "metadata": {},
   "outputs": [
    {
     "data": {
      "text/plain": [
       "'A TOTAL OF 9592 PRIME NUMBERS UP UNTIL 100000 WITH 99991 BEING THE LARGEST'"
      ]
     },
     "execution_count": 134,
     "metadata": {},
     "output_type": "execute_result"
    }
   ],
   "source": [
    "def divisors(a):\n",
    "    L=[]\n",
    "    for i in range(1,a+1):\n",
    "        if a%i == 0:\n",
    "            L.append(i)\n",
    "    return L\n",
    "\n",
    "def check_prime(a):\n",
    "    if divisors(a)==[1,a]:\n",
    "        return True\n",
    "    \n",
    "def collect_prime(a):\n",
    "    P=[]\n",
    "    for i in range(2,a+1):\n",
    "        if check_prime(i):\n",
    "            P.append(i)\n",
    "    return \"A TOTAL OF {} PRIME NUMBERS UP UNTIL {} WITH {} BEING THE LARGEST\".format(len(P), a, max(P))\n",
    "\n",
    "collect_prime(100000)        "
   ]
  },
  {
   "cell_type": "code",
   "execution_count": null,
   "id": "7b61e0b8-13da-45db-918f-e852bbbe93a3",
   "metadata": {},
   "outputs": [],
   "source": []
  }
 ],
 "metadata": {
  "kernelspec": {
   "display_name": "Python 3 (ipykernel)",
   "language": "python",
   "name": "python3"
  },
  "language_info": {
   "codemirror_mode": {
    "name": "ipython",
    "version": 3
   },
   "file_extension": ".py",
   "mimetype": "text/x-python",
   "name": "python",
   "nbconvert_exporter": "python",
   "pygments_lexer": "ipython3",
   "version": "3.9.6"
  }
 },
 "nbformat": 4,
 "nbformat_minor": 5
}
